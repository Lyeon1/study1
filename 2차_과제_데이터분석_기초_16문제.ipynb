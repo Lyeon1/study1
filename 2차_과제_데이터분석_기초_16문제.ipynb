{
  "nbformat": 4,
  "nbformat_minor": 0,
  "metadata": {
    "colab": {
      "provenance": [],
      "collapsed_sections": [],
      "include_colab_link": true
    },
    "kernelspec": {
      "name": "python3",
      "display_name": "Python 3"
    },
    "language_info": {
      "name": "python"
    }
  },
  "cells": [
    {
      "cell_type": "markdown",
      "metadata": {
        "id": "view-in-github",
        "colab_type": "text"
      },
      "source": [
        "<a href=\"https://colab.research.google.com/github/Lyeon1/study1/blob/main/2%EC%B0%A8_%EA%B3%BC%EC%A0%9C_%EB%8D%B0%EC%9D%B4%ED%84%B0%EB%B6%84%EC%84%9D_%EA%B8%B0%EC%B4%88_16%EB%AC%B8%EC%A0%9C.ipynb\" target=\"_parent\"><img src=\"https://colab.research.google.com/assets/colab-badge.svg\" alt=\"Open In Colab\"/></a>"
      ]
    },
    {
      "cell_type": "markdown",
      "source": [
        "문제 1) 다음 조건을 만족하는 임의의 데이터프레임을 하나 만든다.\n",
        "* 열의 개수와 행의 개수가 각각 5개 이상이어야 한다.\n",
        "* 열에는 정수, 문자열, 실수 자료형 데이터가 각각 1개 이상씩 포함되어 있어야 한다.\n",
        "\n",
        "import pandas as pd"
      ],
      "metadata": {
        "id": "1ZNS5czhhuE0"
      }
    },
    {
      "cell_type": "code",
      "source": [
        "import pandas as pd"
      ],
      "metadata": {
        "id": "kY8sZCqjmYrG"
      },
      "execution_count": 1,
      "outputs": []
    },
    {
      "cell_type": "markdown",
      "source": [
        "문제 2) 모든 학생의 수학 점수를 시리즈로 나타내보세요.\n",
        "\n",
        "import pandas as pd\n",
        "\n",
        "data = {\n",
        "    \"국어\": [80, 90, 70, 30],\n",
        "    \"영어\": [90, 70, 60, 40],\n",
        "    \"수학\": [90, 60, 80, 70],\n",
        "}\n",
        "\n",
        "columns = [\"국어\", \"영어\", \"수학\"]\n",
        "\n",
        "index = [\"춘향\", \"몽룡\", \"향단\", \"방자\"]\n",
        "\n",
        "df = pd.DataFrame(data, index=index, columns=columns)"
      ],
      "metadata": {
        "id": "HAoZd0LbiqkZ"
      }
    },
    {
      "cell_type": "code",
      "source": [],
      "metadata": {
        "id": "VxwhXHpSi1eR"
      },
      "execution_count": null,
      "outputs": []
    },
    {
      "cell_type": "markdown",
      "source": [
        "문제 3) 모든 학생의 국어와 영어 점수를 데이터프레임으로 나타내보세요.\n",
        "\n",
        "import pandas as pd\n",
        "\n",
        "data = {\n",
        "    \"국어\": [80, 90, 70, 30],\n",
        "    \"영어\": [90, 70, 60, 40],\n",
        "    \"수학\": [90, 60, 80, 70],\n",
        "}\n",
        "\n",
        "columns = [\"국어\", \"영어\", \"수학\"]\n",
        "\n",
        "index = [\"춘향\", \"몽룡\", \"향단\", \"방자\"]\n",
        "\n",
        "df = pd.DataFrame(data, index=index, columns=columns)"
      ],
      "metadata": {
        "id": "6gANqQc8i40b"
      }
    },
    {
      "cell_type": "code",
      "source": [],
      "metadata": {
        "id": "kjOWIhPijC6w"
      },
      "execution_count": null,
      "outputs": []
    },
    {
      "cell_type": "markdown",
      "source": [
        "문제 4) 모든 학생의 평균 점수를 새로운 열로 추가해보세요.\n",
        "\n",
        "import pandas as pd\n",
        "\n",
        "data = {\n",
        "    \"국어\": [80, 90, 70, 30],\n",
        "    \"영어\": [90, 70, 60, 40],\n",
        "    \"수학\": [90, 60, 80, 70],\n",
        "}\n",
        "\n",
        "columns = [\"국어\", \"영어\", \"수학\"]\n",
        "\n",
        "index = [\"춘향\", \"몽룡\", \"향단\", \"방자\"]\n",
        "\n",
        "df = pd.DataFrame(data, index=index, columns=columns)"
      ],
      "metadata": {
        "id": "ov0hhaLrjDlQ"
      }
    },
    {
      "cell_type": "code",
      "source": [],
      "metadata": {
        "id": "_Hgrl6hujKv3"
      },
      "execution_count": null,
      "outputs": []
    },
    {
      "cell_type": "markdown",
      "source": [
        "문제 5) 방자의 영어 점수를 80점으로 수정하고, 평균 점수도 다시 계산해보세요.\n",
        "\n",
        "import pandas as pd\n",
        "\n",
        "data = {\n",
        "    \"국어\": [80, 90, 70, 30],\n",
        "    \"영어\": [90, 70, 60, 40],\n",
        "    \"수학\": [90, 60, 80, 70],\n",
        "}\n",
        "\n",
        "columns = [\"국어\", \"영어\", \"수학\"]\n",
        "\n",
        "index = [\"춘향\", \"몽룡\", \"향단\", \"방자\"]\n",
        "\n",
        "df = pd.DataFrame(data, index=index, columns=columns)"
      ],
      "metadata": {
        "id": "-RATOWVhjLO_"
      }
    },
    {
      "cell_type": "code",
      "source": [],
      "metadata": {
        "id": "0A2lGScgjbfR"
      },
      "execution_count": null,
      "outputs": []
    },
    {
      "cell_type": "markdown",
      "source": [
        "문제 6) titanic.csv 파일을 불러와보세요.\n",
        "\n",
        "import pandas as pd"
      ],
      "metadata": {
        "id": "beSmS1kjjvmH"
      }
    },
    {
      "cell_type": "code",
      "source": [],
      "metadata": {
        "id": "Cer9eLUyj1kf"
      },
      "execution_count": null,
      "outputs": []
    },
    {
      "cell_type": "markdown",
      "source": [
        "문제 7) titanic 데이터프레임의 각 열 마다 데이터 개수를 화면에 출력해보세요.\n",
        "\n",
        "import pandas as pd\n",
        "\n",
        "titanic = pd.read_csv(\"titanic.csv\")\n"
      ],
      "metadata": {
        "id": "V0uHuHPrj2EI"
      }
    },
    {
      "cell_type": "code",
      "source": [],
      "metadata": {
        "id": "1UPj4kdUj8VH"
      },
      "execution_count": null,
      "outputs": []
    },
    {
      "cell_type": "markdown",
      "source": [
        "문제 8) 타이타닉호 승객 평균 나이를 구해보세요.\n",
        "\n",
        "import pandas as pd\n",
        "\n",
        "titanic = pd.read_csv(\"titanic.csv\")\n"
      ],
      "metadata": {
        "id": "CmG0SPVCj9NX"
      }
    },
    {
      "cell_type": "code",
      "source": [],
      "metadata": {
        "id": "4O-sa2opkDLe"
      },
      "execution_count": null,
      "outputs": []
    },
    {
      "cell_type": "markdown",
      "source": [
        "문제 9) 타이타닉호 승객중 1등실 선실의 여성 승객의 평균 나이를 구해보세요.\n",
        "* 1등실 선실은 class열의 First값입니다.\n",
        "\n",
        "import pandas as pd\n",
        "\n",
        "titanic = pd.read_csv(\"titanic.csv\")"
      ],
      "metadata": {
        "id": "dBLMC4mkkL6X"
      }
    },
    {
      "cell_type": "code",
      "source": [],
      "metadata": {
        "id": "baCYDUvEkVPX"
      },
      "execution_count": null,
      "outputs": []
    },
    {
      "cell_type": "markdown",
      "source": [
        "문제 10) 타이타닉 데이터프레임에서 \"age\" 열의 누락값을 \"age\"열의 평균값으로 채워보세요.\n",
        "\n",
        "import pandas as pd\n",
        "\n",
        "titanic = pd.read_csv(\"titanic.csv\")"
      ],
      "metadata": {
        "id": "v-8425mkkVlX"
      }
    },
    {
      "cell_type": "code",
      "source": [],
      "metadata": {
        "id": "_y9_u0c8kfEf"
      },
      "execution_count": null,
      "outputs": []
    },
    {
      "cell_type": "markdown",
      "source": [
        "문제 11) 타이타닉 데이터프레임에 \"성별2\" 열을 추가하세요.\n",
        "* \"성별2\" 열은 \"남자\", 여자\"로 구성되지만, 나이가 20살 미만이라면 \"어린이\" 라는 값으로 값을 구성해주세요.\n",
        "\n",
        "import pandas as pd\n",
        "\n",
        "titanic = pd.read_csv(\"titanic.csv\")"
      ],
      "metadata": {
        "id": "qH2AglegkfwX"
      }
    },
    {
      "cell_type": "code",
      "source": [],
      "metadata": {
        "id": "pzBXzXxEkptv"
      },
      "execution_count": null,
      "outputs": []
    },
    {
      "cell_type": "markdown",
      "source": [
        "문제 12) score 데이터프레임의 인덱스를 학생의 이름으로 설정한 후, \"성명\" 열은 삭제해주세요.\n",
        "\n",
        "import pandas as pd\n",
        "\n",
        "score = pd.read_excel(\"성적 처리.xlsx\", sheet_name = 'Sheet1')"
      ],
      "metadata": {
        "id": "1F46ZUWKk4AO"
      }
    },
    {
      "cell_type": "code",
      "source": [],
      "metadata": {
        "id": "0jJPz0zNlAGW"
      },
      "execution_count": null,
      "outputs": []
    },
    {
      "cell_type": "markdown",
      "source": [
        "문제 13) score 데이터프레임에서 반별로 국어, 영어, 수학, 사회, 과학의 평균값을 출력해보세요.\n",
        "\n",
        "import pandas as pd\n",
        "\n",
        "score = pd.read_excel(\"성적 처리.xlsx\", sheet_name = 'Sheet1')"
      ],
      "metadata": {
        "id": "uPhZMi3MlAam"
      }
    },
    {
      "cell_type": "code",
      "source": [],
      "metadata": {
        "id": "hbbSRrzvlPDW"
      },
      "execution_count": null,
      "outputs": []
    },
    {
      "cell_type": "markdown",
      "source": [
        "문제 14) 타이타닉호의 각 클래스별, 승객 수를 seaborn 라이브러리의 countplot을 활용해서 그려보세요.\n",
        "\n",
        "import pandas as pd\n",
        "\n",
        "import seaborn as sns\n",
        "\n",
        "titanic = pd.read_csv(\"titanic.csv\")\n"
      ],
      "metadata": {
        "id": "e0E6NUNZlPaO"
      }
    },
    {
      "cell_type": "code",
      "source": [],
      "metadata": {
        "id": "33RnVeX-lTce"
      },
      "execution_count": null,
      "outputs": []
    },
    {
      "cell_type": "markdown",
      "source": [
        "문제 15) 타이타닉호의 성별 별로, 생존율을 그래프로 그려보세요.\n",
        "\n",
        "import pandas as pd\n",
        "\n",
        "import seaborn as sns\n",
        "\n",
        "titanic = pd.read_csv(\"titanic.csv\")"
      ],
      "metadata": {
        "id": "qNPvT9lllTwv"
      }
    },
    {
      "cell_type": "code",
      "source": [],
      "metadata": {
        "id": "zutFU1gPlatO"
      },
      "execution_count": null,
      "outputs": []
    },
    {
      "cell_type": "markdown",
      "source": [
        "문제 16) 타이타닉호 데이터프레임에서 생존에 가장 상관관계가 높은 열을 찾아보세요.\n",
        "* \"생존\" 열은 survived 열입니다.\n",
        "\n",
        "import pandas as pd\n",
        "\n",
        "import seaborn as sns\n",
        "\n",
        "\n",
        "titanic = pd.read_csv(\"titanic.csv\")"
      ],
      "metadata": {
        "id": "n3qPJOF7lbhA"
      }
    },
    {
      "cell_type": "code",
      "source": [],
      "metadata": {
        "id": "ld63sE8UlpA-"
      },
      "execution_count": null,
      "outputs": []
    }
  ]
}